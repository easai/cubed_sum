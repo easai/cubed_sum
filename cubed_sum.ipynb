{
 "cells": [
  {
   "cell_type": "markdown",
   "metadata": {},
   "source": [
    "# The sum of cubes\n",
    "\n",
    "### Definition of sum of cubes\n",
    "\n",
    "\\begin{align*}\n",
    "S_n&=\\sum_{x=1}^{n} x^3\\\\\n",
    "&= 1+2^3+3^3+\\cdots +n^3\n",
    "\\end{align*}\n",
    "\n",
    "### Sum of the cubes for a specified range\n",
    "\n",
    "\\begin{align*}\n",
    "S_{a,b}&=\\sum_{x=a}^{b} x^3\\\\\n",
    "&= a^3+(a+1)^3+\\cdots +b^3\\\\\n",
    "&=S*b-S*{a-1}\n",
    "\\end{align*}\n",
    "\n",
    "### Sum of cubes\n",
    "\n",
    "\\begin{align}\n",
    "S_n=\\left({n(n+1)\\over 2}\\right)^2\n",
    "\\end{align}\n",
    "\n",
    "### Even sum of cubes\n",
    "\n",
    "\\begin{align*}\n",
    "S_{even,n}=&2^3+4^3+6^3+\\cdots +(2n)^3 \\\\\n",
    "=&2^3(1+2^3+3^3+\\cdots +n^3) \\\\\n",
    "=&2^3*S_n \\\\\n",
    "=&2\\left(n(n+1)\\right)^2 \\\\\n",
    "\\end{align*}\n",
    "\n",
    "### Odd sum of cubes\n",
    "\n",
    "\\begin{align*}\n",
    "S_{odd,n}=&1^3+3^3+5^3+\\cdots +(2n-1)^3 \\\\\n",
    "=&((2\\cdot 1-1)^3+(2\\cdot 2-1)^3+\\cdots +(2n-1)^3) \\\\\n",
    "=&2^3\\sum_1^n x^3-12\\sum_1^n x^2+6\\sum_1^n x-n \\\\\n",
    "=&2^3\\left({n(n+1)\\over 2}\\right)^2-12\\left( {n\\over 6}(2n+1)(n+1) \\right)+6\\left( {n(n+1)\\over 2} \\right)-n \\\\\n",
    "=&n^2(2n^2-1)\n",
    "\\end{align*}\n",
    "\n",
    "##\n"
   ]
  },
  {
   "cell_type": "markdown",
   "metadata": {},
   "source": []
  }
 ],
 "metadata": {
  "language_info": {
   "name": "python"
  }
 },
 "nbformat": 4,
 "nbformat_minor": 2
}
